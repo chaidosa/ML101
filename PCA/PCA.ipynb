{
 "cells": [
  {
   "cell_type": "markdown",
   "id": "efb8f5d7",
   "metadata": {},
   "source": [
    "# Princial Components analysis\n",
    "\n",
    "PCA - Extracts the principle components of the dataset which are un uncorrelated set of latent variables that enompass most of the information from the original dataset. Using a smaller set of principal componemts can make a lot easier to use the dataset in statistical or matchine learning models (especially when the original dataset contains many correlated features).\n",
    "\n",
    "latent variables: Variable that are not directly observed but are rather inferred through a mathematical model from other variables that are observed. The Mathematical models that aim to explain observed variable in terms of latent variables are called latent variable models.\n",
    "\n",
    "PCA in scikit-learn: We can apply PCA to a dataset in sk-learn with a transformer, int this case the PCA module. When initializing the PCA module, we can use the n_components keyword to specify the number of principal components. The default setting is to extract m-1 principal components, when m is the number of features in the dataset."
   ]
  },
  {
   "cell_type": "code",
   "execution_count": 3,
   "id": "a3e70ffa",
   "metadata": {},
   "outputs": [
    {
     "name": "stdout",
     "output_type": "stream",
     "text": [
      "[[1.5, 3.0, 9.0, -0.5, 1.0], [2.2, 4.3, 3.5, 0.6, 2.7], [3.0, 6.1, 1.1, 1.2, 4.2], [8.0, 16.0, 7.7, -1.0, 7.1]]\n",
      "\n",
      "array([[-4.8600e+00,  4.6300e+00, -4.7000e-02,  0.0000e+00],\n",
      "       [-3.7990e+00, -1.3180e+00,  1.2700e-01,  0.0000e+00],\n",
      "       [-1.8630e+00, -4.2260e+00, -8.9000e-02,  0.0000e+00],\n",
      "       [ 1.0522e+01,  9.1400e-01,  9.0000e-03,  0.0000e+00]])\n",
      "\n"
     ]
    }
   ],
   "source": [
    "data = [[ 1.5,  3. ,  9. , -0.5,  1. ],\n",
    "       [ 2.2,  4.3,  3.5,  0.6,  2.7],\n",
    "       [ 3. ,  6.1,  1.1,  1.2,  4.2],\n",
    "       [ 8. , 16. ,  7.7, -1. ,  7.1]]\n",
    "\n",
    "print('{}\\n'.format(repr(data)))\n",
    "\n",
    "from sklearn.decomposition import PCA\n",
    "pca_obj = PCA() # the value of the n_components will 4. As m is 5 and default is m-1\n",
    "pc = pca_obj.fit_transform(data).round(3)\n",
    "\n",
    "print('{}\\n'.format(repr(pc)))"
   ]
  },
  {
   "cell_type": "markdown",
   "id": "e7435894",
   "metadata": {},
   "source": [
    "As we can see above the no of columns after transformation(PCA) is 4 and last column is all zero that also means that there are only three uncorrelated principal components that can be extracted so we can reduce the n_components"
   ]
  },
  {
   "cell_type": "code",
   "execution_count": 6,
   "id": "7c1c18a2",
   "metadata": {},
   "outputs": [
    {
     "name": "stdout",
     "output_type": "stream",
     "text": [
      "array([[-4.8600e+00,  4.6300e+00, -4.7000e-02],\n",
      "       [-3.7990e+00, -1.3180e+00,  1.2700e-01],\n",
      "       [-1.8630e+00, -4.2260e+00, -8.9000e-02],\n",
      "       [ 1.0522e+01,  9.1400e-01,  9.0000e-03]])\n",
      "\n"
     ]
    }
   ],
   "source": [
    "pca_obj = PCA(n_components=3)\n",
    "pc = pca_obj.fit_transform(data).round(3)\n",
    "print('{}\\n'.format(repr(pc)))"
   ]
  },
  {
   "cell_type": "code",
   "execution_count": 7,
   "id": "39073df2",
   "metadata": {
    "scrolled": true
   },
   "outputs": [
    {
     "name": "stdout",
     "output_type": "stream",
     "text": [
      "array([[-4.86 ,  4.63 ],\n",
      "       [-3.799, -1.318],\n",
      "       [-1.863, -4.226],\n",
      "       [10.522,  0.914]])\n",
      "\n"
     ]
    }
   ],
   "source": [
    "#reducing components further\n",
    "pca_obj = PCA(n_components=2)\n",
    "pc = pca_obj.fit_transform(data).round(3)\n",
    "print('{}\\n'.format(repr(pc)))"
   ]
  }
 ],
 "metadata": {
  "kernelspec": {
   "display_name": "Python 3 (ipykernel)",
   "language": "python",
   "name": "python3"
  },
  "language_info": {
   "codemirror_mode": {
    "name": "ipython",
    "version": 3
   },
   "file_extension": ".py",
   "mimetype": "text/x-python",
   "name": "python",
   "nbconvert_exporter": "python",
   "pygments_lexer": "ipython3",
   "version": "3.9.7"
  }
 },
 "nbformat": 4,
 "nbformat_minor": 5
}
